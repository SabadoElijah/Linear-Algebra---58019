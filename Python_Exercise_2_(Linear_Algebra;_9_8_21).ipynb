{
  "nbformat": 4,
  "nbformat_minor": 0,
  "metadata": {
    "colab": {
      "name": "Python Exercise 2 (Linear Algebra; 9/8/21).ipynb",
      "provenance": [],
      "authorship_tag": "ABX9TyMmF4dYl7Z4iA8WYUVQcGD1",
      "include_colab_link": true
    },
    "kernelspec": {
      "name": "python3",
      "display_name": "Python 3"
    },
    "language_info": {
      "name": "python"
    }
  },
  "cells": [
    {
      "cell_type": "markdown",
      "metadata": {
        "id": "view-in-github",
        "colab_type": "text"
      },
      "source": [
        "<a href=\"https://colab.research.google.com/github/jhiasab27/Linear-Algebra---58019/blob/main/Python_Exercise_2_(Linear_Algebra%3B_9_8_21).ipynb\" target=\"_parent\"><img src=\"https://colab.research.google.com/assets/colab-badge.svg\" alt=\"Open In Colab\"/></a>"
      ]
    },
    {
      "cell_type": "markdown",
      "metadata": {
        "id": "WbhOaEDMoL4H"
      },
      "source": [
        "## Representing Vectors"
      ]
    },
    {
      "cell_type": "code",
      "metadata": {
        "colab": {
          "base_uri": "https://localhost:8080/"
        },
        "id": "hd0ufCxVkhb4",
        "outputId": "d5dd2390-4340-4697-819d-dc79214191df"
      },
      "source": [
        "import numpy as np\n",
        "A = np.array([4,3])\n",
        "B = np.array([2,-5])\n",
        "\n",
        "print('Vector A is ', A)\n",
        "print('Vector B is ', B)"
      ],
      "execution_count": 3,
      "outputs": [
        {
          "output_type": "stream",
          "name": "stdout",
          "text": [
            "Vector A is  [4 3]\n",
            "Vector B is  [ 2 -5]\n"
          ]
        }
      ]
    },
    {
      "cell_type": "markdown",
      "metadata": {
        "id": "VWbeW3DGo8z6"
      },
      "source": [
        "## Describing Vectors in NumPy"
      ]
    },
    {
      "cell_type": "code",
      "metadata": {
        "colab": {
          "base_uri": "https://localhost:8080/"
        },
        "id": "hmwaNOfIpCOP",
        "outputId": "a83999cf-e81c-4f10-e879-8814b5ce7c2e"
      },
      "source": [
        "ball1= np.array([1,2,3])\n",
        "ball2= np.array([0,1,-1])\n",
        "pool= np.array ([ball1,ball2])\n",
        "pool.shape\n",
        "pool.ndim"
      ],
      "execution_count": 9,
      "outputs": [
        {
          "output_type": "execute_result",
          "data": {
            "text/plain": [
              "2"
            ]
          },
          "metadata": {},
          "execution_count": 9
        }
      ]
    },
    {
      "cell_type": "code",
      "metadata": {
        "colab": {
          "base_uri": "https://localhost:8080/"
        },
        "id": "y2oRvElFqjOh",
        "outputId": "7b339149-15df-45ee-98c0-34e47ac44ad6"
      },
      "source": [
        "U = np.array([[1,2,3],[4,5,6]])\n",
        "U.size"
      ],
      "execution_count": 13,
      "outputs": [
        {
          "output_type": "execute_result",
          "data": {
            "text/plain": [
              "6"
            ]
          },
          "metadata": {},
          "execution_count": 13
        }
      ]
    },
    {
      "cell_type": "markdown",
      "metadata": {
        "id": "mXSZWRVgrPUi"
      },
      "source": [
        "# Space"
      ]
    },
    {
      "cell_type": "markdown",
      "metadata": {
        "id": "lpzPQ-U8sMg-"
      },
      "source": [
        "##Vector spaces are mathematical objects that abstractly capture the geometry and algebra of linear equations"
      ]
    },
    {
      "cell_type": "markdown",
      "metadata": {
        "id": "wHllUdJ-tex5"
      },
      "source": [
        "###Addition of Vectors"
      ]
    },
    {
      "cell_type": "code",
      "metadata": {
        "colab": {
          "base_uri": "https://localhost:8080/"
        },
        "id": "2cQpRg9Srute",
        "outputId": "5a3ed6d5-d5e0-4778-f0e8-a66b09417557"
      },
      "source": [
        "addend1= np.array([0,0,0])\n",
        "addend2= np.array([1,1,0])\n",
        "sum = addend1+addend2\n",
        "sum"
      ],
      "execution_count": 15,
      "outputs": [
        {
          "output_type": "execute_result",
          "data": {
            "text/plain": [
              "array([1, 1, 0])"
            ]
          },
          "metadata": {},
          "execution_count": 15
        }
      ]
    },
    {
      "cell_type": "code",
      "metadata": {
        "colab": {
          "base_uri": "https://localhost:8080/"
        },
        "id": "_C9J6UP2uBao",
        "outputId": "b3301519-4fce-4bda-aed7-7988d1b1e2bc"
      },
      "source": [
        "addend1= np.array([0,0,0])\n",
        "addend2= np.array([1,1,0])\n",
        "resultant= np.add(addend1, addend2)\n",
        "resultant"
      ],
      "execution_count": 20,
      "outputs": [
        {
          "output_type": "execute_result",
          "data": {
            "text/plain": [
              "array([1, 1, 0])"
            ]
          },
          "metadata": {},
          "execution_count": 20
        }
      ]
    },
    {
      "cell_type": "markdown",
      "metadata": {
        "id": "X8RZNQRHvqZG"
      },
      "source": [
        "###Subtraction of Vectors"
      ]
    },
    {
      "cell_type": "code",
      "metadata": {
        "colab": {
          "base_uri": "https://localhost:8080/"
        },
        "id": "yjmp_h22vnCC",
        "outputId": "a8aedd0b-8b5c-47af-8b1b-42ceb69ac9f6"
      },
      "source": [
        "difference = addend1-addend2\n",
        "difference"
      ],
      "execution_count": 24,
      "outputs": [
        {
          "output_type": "execute_result",
          "data": {
            "text/plain": [
              "array([-1, -1,  0])"
            ]
          },
          "metadata": {},
          "execution_count": 24
        }
      ]
    },
    {
      "cell_type": "code",
      "metadata": {
        "colab": {
          "base_uri": "https://localhost:8080/"
        },
        "id": "6kq5TbPqxSv_",
        "outputId": "ca2e91be-9ea6-4a97-9005-06bfbfe35f9c"
      },
      "source": [
        "difference2= np.subtract(addend1,addend2)\n",
        "difference2"
      ],
      "execution_count": 25,
      "outputs": [
        {
          "output_type": "execute_result",
          "data": {
            "text/plain": [
              "array([-1, -1,  0])"
            ]
          },
          "metadata": {},
          "execution_count": 25
        }
      ]
    },
    {
      "cell_type": "markdown",
      "metadata": {
        "id": "wAZA3jaBxZ5k"
      },
      "source": [
        "###Scaling"
      ]
    },
    {
      "cell_type": "code",
      "metadata": {
        "colab": {
          "base_uri": "https://localhost:8080/"
        },
        "id": "rJZUu4l7xbTc",
        "outputId": "0bf097c2-016f-4a54-81e1-c6949f271060"
      },
      "source": [
        "A = np.array([1,5,8,9])\n",
        "S = 5*A\n",
        "S"
      ],
      "execution_count": 26,
      "outputs": [
        {
          "output_type": "execute_result",
          "data": {
            "text/plain": [
              "array([ 5, 25, 40, 45])"
            ]
          },
          "metadata": {},
          "execution_count": 26
        }
      ]
    },
    {
      "cell_type": "markdown",
      "metadata": {
        "id": "jDDBbau8yJgl"
      },
      "source": [
        "##Cross Product"
      ]
    },
    {
      "cell_type": "code",
      "metadata": {
        "colab": {
          "base_uri": "https://localhost:8080/"
        },
        "id": "EoPHrb7wx-Js",
        "outputId": "4099bbe0-5ffd-405b-f074-8aa4c3963a6f"
      },
      "source": [
        "A= np.array([2,3,4])\n",
        "B= np.array([1,7,1])\n",
        "\n",
        "#compute cross product\n",
        "cross= np.cross(A,B)\n",
        "print(cross)"
      ],
      "execution_count": 29,
      "outputs": [
        {
          "output_type": "stream",
          "name": "stdout",
          "text": [
            "[-25   2  11]\n"
          ]
        }
      ]
    }
  ]
}