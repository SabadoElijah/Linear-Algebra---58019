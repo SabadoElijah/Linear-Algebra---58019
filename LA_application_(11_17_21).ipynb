{
  "nbformat": 4,
  "nbformat_minor": 0,
  "metadata": {
    "colab": {
      "name": "LA application (11/17/21).ipynb",
      "provenance": [],
      "authorship_tag": "ABX9TyOr3fTmzhq8c9bps9jGgosL",
      "include_colab_link": true
    },
    "kernelspec": {
      "name": "python3",
      "display_name": "Python 3"
    },
    "language_info": {
      "name": "python"
    }
  },
  "cells": [
    {
      "cell_type": "markdown",
      "metadata": {
        "id": "view-in-github",
        "colab_type": "text"
      },
      "source": [
        "<a href=\"https://colab.research.google.com/github/jhiasab27/Linear-Algebra---58019/blob/main/LA_application_(11_17_21).ipynb\" target=\"_parent\"><img src=\"https://colab.research.google.com/assets/colab-badge.svg\" alt=\"Open In Colab\"/></a>"
      ]
    },
    {
      "cell_type": "markdown",
      "metadata": {
        "id": "GhaxfqNoGMaj"
      },
      "source": [
        "###the price of one apple and one orange"
      ]
    },
    {
      "cell_type": "code",
      "metadata": {
        "colab": {
          "base_uri": "https://localhost:8080/"
        },
        "id": "ui98pcufGH_A",
        "outputId": "0bfbbf56-304a-49fd-bed6-774c17101d99"
      },
      "source": [
        "import numpy as np\n",
        "from scipy.linalg import solve \n",
        "A= np.array([[20,10],[17,22]])\n",
        "B= np.array([[350],[500]])\n",
        "print(A)\n",
        "print(B)\n",
        "\n",
        "X= np.linalg.solve(A,B)\n",
        "print(\"\\n\",X)"
      ],
      "execution_count": 9,
      "outputs": [
        {
          "output_type": "stream",
          "name": "stdout",
          "text": [
            "[[20 10]\n",
            " [17 22]]\n",
            "[[350]\n",
            " [500]]\n",
            "\n",
            " [[10.]\n",
            " [15.]]\n"
          ]
        }
      ]
    },
    {
      "cell_type": "code",
      "metadata": {
        "colab": {
          "base_uri": "https://localhost:8080/"
        },
        "id": "H44e_EBTHvS-",
        "outputId": "ab0f31c9-7293-4b21-ea58-63688fa0db4e"
      },
      "source": [
        "inv_A=np.linalg.inv(A)\n",
        "print(inv_A)\n",
        "\n",
        "X= np.linalg.inv(A).dot(B)\n",
        "print(X)"
      ],
      "execution_count": 3,
      "outputs": [
        {
          "output_type": "stream",
          "name": "stdout",
          "text": [
            "[[ 0.08148148 -0.03703704]\n",
            " [-0.06296296  0.07407407]]\n",
            "[[10.]\n",
            " [15.]]\n"
          ]
        }
      ]
    },
    {
      "cell_type": "code",
      "metadata": {
        "colab": {
          "base_uri": "https://localhost:8080/"
        },
        "id": "nBHxLnMbIFlN",
        "outputId": "4a946cae-6a7a-4efa-a4b6-6c2a8cb72dd8"
      },
      "source": [
        "X=np.dot(inv_A,B)\n",
        "print(X)"
      ],
      "execution_count": 4,
      "outputs": [
        {
          "output_type": "stream",
          "name": "stdout",
          "text": [
            "[[10.]\n",
            " [15.]]\n"
          ]
        }
      ]
    },
    {
      "cell_type": "markdown",
      "metadata": {
        "id": "IArdG4OALPPs"
      },
      "source": [
        "##Solving for three linear equations with unknown variables of x, y, and z"
      ]
    },
    {
      "cell_type": "code",
      "metadata": {
        "colab": {
          "base_uri": "https://localhost:8080/"
        },
        "id": "ew5uoHjnLU0s",
        "outputId": "4f6ddcb9-a5c4-4a31-c71a-e5aac387558d"
      },
      "source": [
        "#4x+3y+2z=25\n",
        "#-2z+2y+3z=-10\n",
        "#3x-5y+2z=-4\n",
        "A= np.array([[4,3,2],[-2,2,3],[3,-5,2]])\n",
        "B= np.array([[25],[-10],[-4]])\n",
        "print(A)\n",
        "print(B)\n",
        "\n",
        "X= np.linalg.solve(A,B)\n",
        "print(\"\\n\",X)"
      ],
      "execution_count": 10,
      "outputs": [
        {
          "output_type": "stream",
          "name": "stdout",
          "text": [
            "[[ 4  3  2]\n",
            " [-2  2  3]\n",
            " [ 3 -5  2]]\n",
            "[[ 25]\n",
            " [-10]\n",
            " [ -4]]\n",
            "\n",
            " [[ 5.]\n",
            " [ 3.]\n",
            " [-2.]]\n"
          ]
        }
      ]
    }
  ]
}