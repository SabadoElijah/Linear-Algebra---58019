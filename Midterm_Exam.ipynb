{
  "nbformat": 4,
  "nbformat_minor": 0,
  "metadata": {
    "colab": {
      "name": "Midterm Exam.ipynb",
      "provenance": [],
      "authorship_tag": "ABX9TyMBQzDh6xWPjYvMZji65fLr",
      "include_colab_link": true
    },
    "kernelspec": {
      "name": "python3",
      "display_name": "Python 3"
    },
    "language_info": {
      "name": "python"
    }
  },
  "cells": [
    {
      "cell_type": "markdown",
      "metadata": {
        "id": "view-in-github",
        "colab_type": "text"
      },
      "source": [
        "<a href=\"https://colab.research.google.com/github/jhiasab27/Linear-Algebra---58019/blob/main/Midterm_Exam.ipynb\" target=\"_parent\"><img src=\"https://colab.research.google.com/assets/colab-badge.svg\" alt=\"Open In Colab\"/></a>"
      ]
    },
    {
      "cell_type": "markdown",
      "metadata": {
        "id": "4QPnSmIu32Ji"
      },
      "source": [
        "##Midterm Exam"
      ]
    },
    {
      "cell_type": "markdown",
      "metadata": {
        "id": "99bBEsDY35Sp"
      },
      "source": [
        "###Question 1. Create a Python code that displays a square matrix whose length is 5 (10 points)"
      ]
    },
    {
      "cell_type": "code",
      "metadata": {
        "colab": {
          "base_uri": "https://localhost:8080/"
        },
        "id": "dq8OS-ky3iAz",
        "outputId": "18ccc129-75ee-4fcd-cc3e-c2a0a26cdaa6"
      },
      "source": [
        "import numpy as np\n",
        "A=np.array([[1,2,3,4,5],[6,7,8,9,10],[11,12,13,14,15],[16,17,18,19,20],[21,22,23,24,25]]) #5x5 matrix\n",
        "print(A)"
      ],
      "execution_count": 4,
      "outputs": [
        {
          "output_type": "stream",
          "name": "stdout",
          "text": [
            "[[ 1  2  3  4  5]\n",
            " [ 6  7  8  9 10]\n",
            " [11 12 13 14 15]\n",
            " [16 17 18 19 20]\n",
            " [21 22 23 24 25]]\n"
          ]
        }
      ]
    },
    {
      "cell_type": "markdown",
      "metadata": {
        "id": "Bwftd8c44rPL"
      },
      "source": [
        "###Question 2. Create a Python code that displays a square matrix whose elements below the principal diagonal are zero (10 points)"
      ]
    },
    {
      "cell_type": "code",
      "metadata": {
        "colab": {
          "base_uri": "https://localhost:8080/"
        },
        "id": "ojZotTK84uX9",
        "outputId": "80bacc5d-3eb8-4380-8b55-bfc646939e4f"
      },
      "source": [
        "import numpy as np\n",
        "A=np.eye(3)\n",
        "print(A)"
      ],
      "execution_count": 10,
      "outputs": [
        {
          "output_type": "stream",
          "name": "stdout",
          "text": [
            "[[1. 0. 0.]\n",
            " [0. 1. 0.]\n",
            " [0. 0. 1.]]\n"
          ]
        }
      ]
    },
    {
      "cell_type": "markdown",
      "metadata": {
        "id": "2yuBOlNI5vAT"
      },
      "source": [
        "###Question 3. Create a Python code that displays a square matrix which is symmetrical (10 points)"
      ]
    },
    {
      "cell_type": "code",
      "metadata": {
        "colab": {
          "base_uri": "https://localhost:8080/"
        },
        "id": "jaoquuX55zgv",
        "outputId": "b6c188d8-b93e-44fd-e78a-a1820cd3ecc4"
      },
      "source": [
        "import numpy as np\n",
        "A=np.array([[1,2,3],[1,2,3],[1,2,3]])\n",
        "B=np.transpose(A) \n",
        "\n",
        "print(A,\"matrix A\\n\")\n",
        "print(B,\"transposed matrix A\\n\")\n",
        "print(\"Resulting symmetrical matrix:\\n\",np.dot(A,B)) #get the dot product of A and transposed A to get a symmetrical matrix"
      ],
      "execution_count": 33,
      "outputs": [
        {
          "output_type": "stream",
          "name": "stdout",
          "text": [
            "[[1 2 3]\n",
            " [1 2 3]\n",
            " [1 2 3]] matrix A\n",
            "\n",
            "[[1 1 1]\n",
            " [2 2 2]\n",
            " [3 3 3]] transposed matrix A\n",
            "\n",
            "Resulting symmetrical matrix:\n",
            " [[14 14 14]\n",
            " [14 14 14]\n",
            " [14 14 14]]\n"
          ]
        }
      ]
    },
    {
      "cell_type": "markdown",
      "metadata": {
        "id": "k8R-O3RB6Jhr"
      },
      "source": [
        "###Question 4. What is the inverse of matrix C? Show your solution by python coding. (20 points)"
      ]
    },
    {
      "cell_type": "code",
      "metadata": {
        "colab": {
          "base_uri": "https://localhost:8080/"
        },
        "id": "R1Ea4t8Z6MJL",
        "outputId": "50c71302-084a-4c12-d183-40b92ee84b4e"
      },
      "source": [
        "import numpy as np\n",
        "C=np.array([[1,2,3],[2,3,3],[3,4,-2]]) #matrix C\n",
        "print(\"Matrix C\\n\",C, \"\\n\")\n",
        "\n",
        "inv_C=np.linalg.inv(C) #inverse of matrix C\n",
        "print(\"Inverse of matrix C\\n\",inv_C, \"\\n\")"
      ],
      "execution_count": 39,
      "outputs": [
        {
          "output_type": "stream",
          "name": "stdout",
          "text": [
            "Matrix C\n",
            " [[ 1  2  3]\n",
            " [ 2  3  3]\n",
            " [ 3  4 -2]] \n",
            "\n",
            "Inverse of matrix C\n",
            " [[-3.6  3.2 -0.6]\n",
            " [ 2.6 -2.2  0.6]\n",
            " [-0.2  0.4 -0.2]] \n",
            "\n"
          ]
        }
      ]
    },
    {
      "cell_type": "markdown",
      "metadata": {
        "id": "81SuWBzN64R1"
      },
      "source": [
        "###Question 5. What is the determinant of the given matrix in Question 4? Show your solution by python coding. (20 points)"
      ]
    },
    {
      "cell_type": "code",
      "metadata": {
        "colab": {
          "base_uri": "https://localhost:8080/"
        },
        "id": "xPS3sGPZ66W5",
        "outputId": "dabd1bea-a2f1-41a4-e141-79b974703635"
      },
      "source": [
        "import numpy as np\n",
        "A = np.array([[1,2,3],[2,3,3],[3,4,-2]])\n",
        "print(A, \"\\n\")\n",
        "print(\"The determinant of the given matrix is: \",round(np.linalg.det(A))) #rounded up determinant"
      ],
      "execution_count": 19,
      "outputs": [
        {
          "output_type": "stream",
          "name": "stdout",
          "text": [
            "[[ 1  2  3]\n",
            " [ 2  3  3]\n",
            " [ 3  4 -2]] \n",
            "\n",
            "The determinant of the given matrix is:  5\n"
          ]
        }
      ]
    },
    {
      "cell_type": "markdown",
      "metadata": {
        "id": "pK7qYwdS7Eqi"
      },
      "source": [
        "###Question 6. Find the roots of the linear equations by showing its python codes (30 points)\n",
        "\n",
        "5X1 + 4X2 + X3 = 3.4\n",
        "\n",
        "10X1 + 9X2 + 4X3 = 8.8\n",
        "\n",
        "10X1 + 13X2 + 15X3 = 19.2"
      ]
    },
    {
      "cell_type": "code",
      "metadata": {
        "colab": {
          "base_uri": "https://localhost:8080/"
        },
        "id": "ZBWSCdnm7IjI",
        "outputId": "fd3bdde4-a94c-45e3-d4b9-19184238db67"
      },
      "source": [
        "import numpy as np\n",
        "A=np.array([[5,4,1],[10,9,4],[10,13,15]]) #matrix A\n",
        "print(A, \"matrix A\\n\")\n",
        "\n",
        "inv_A=np.linalg.inv(A) #inverse of matrix A\n",
        "print(inv_A, \"inverse of matrix A\\n\")\n",
        "\n",
        "B=np.array([[3.4],[8.8],[19.2]]) #matrix B\n",
        "print(B, \"matrix B\\n\")\n",
        "\n",
        "X=np.dot(inv_A,B) #the output are the roots\n",
        "print(X,\"roots of the linear equations\")\n",
        "print(\"Therefore, the roots are: X1=0.2, X2=0.4, X3=0.8\\n\")\n",
        "\n",
        "#checking\n",
        "B=np.dot(A,X)\n",
        "print(\"After checking, the results are equal to matrix B:\\n\",B, \"\\n\")"
      ],
      "execution_count": 35,
      "outputs": [
        {
          "output_type": "stream",
          "name": "stdout",
          "text": [
            "[[ 5  4  1]\n",
            " [10  9  4]\n",
            " [10 13 15]] matrix A\n",
            "\n",
            "[[ 5.53333333 -3.13333333  0.46666667]\n",
            " [-7.33333333  4.33333333 -0.66666667]\n",
            " [ 2.66666667 -1.66666667  0.33333333]] inverse of matrix A\n",
            "\n",
            "[[ 3.4]\n",
            " [ 8.8]\n",
            " [19.2]] matrix B\n",
            "\n",
            "[[0.2]\n",
            " [0.4]\n",
            " [0.8]] roots of the linear equations\n",
            "Therefore, the roots are: X1=0.2, X2=0.4, X3=0.8\n",
            "\n",
            "After checking, the results are equal to matrix B:\n",
            " [[ 3.4]\n",
            " [ 8.8]\n",
            " [19.2]] \n",
            "\n"
          ]
        }
      ]
    }
  ]
}