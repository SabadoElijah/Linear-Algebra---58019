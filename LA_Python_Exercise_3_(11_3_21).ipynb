{
  "nbformat": 4,
  "nbformat_minor": 0,
  "metadata": {
    "colab": {
      "name": "LA Coding Activity 3 (11/3/21)",
      "provenance": [],
      "authorship_tag": "ABX9TyNZWXW3SXhDllkL3AqXLW/t",
      "include_colab_link": true
    },
    "kernelspec": {
      "name": "python3",
      "display_name": "Python 3"
    },
    "language_info": {
      "name": "python"
    }
  },
  "cells": [
    {
      "cell_type": "markdown",
      "metadata": {
        "id": "view-in-github",
        "colab_type": "text"
      },
      "source": [
        "<a href=\"https://colab.research.google.com/github/jhiasab27/Linear-Algebra---58019/blob/main/LA_Coding_Activity_3_(11_3_21).ipynb\" target=\"_parent\"><img src=\"https://colab.research.google.com/assets/colab-badge.svg\" alt=\"Open In Colab\"/></a>"
      ]
    },
    {
      "cell_type": "markdown",
      "metadata": {
        "id": "qHlN3YKXQ8Sz"
      },
      "source": [
        "##Coding Activity 3"
      ]
    },
    {
      "cell_type": "code",
      "metadata": {
        "colab": {
          "base_uri": "https://localhost:8080/"
        },
        "id": "_pAabbFIQHM2",
        "outputId": "cccb89a2-e223-45cc-d964-dc6edf4a16de"
      },
      "source": [
        "import numpy as np\n",
        "A=np.array([[4,10,8],[10,26,26],[8,26,61]]) #matrix A\n",
        "print(A)\n",
        "\n",
        "inv_A=np.linalg.inv(A)\n",
        "print(inv_A)"
      ],
      "execution_count": 8,
      "outputs": [
        {
          "output_type": "stream",
          "name": "stdout",
          "text": [
            "[[ 4 10  8]\n",
            " [10 26 26]\n",
            " [ 8 26 61]]\n",
            "[[ 25.27777778 -11.16666667   1.44444444]\n",
            " [-11.16666667   5.          -0.66666667]\n",
            " [  1.44444444  -0.66666667   0.11111111]]\n"
          ]
        }
      ]
    },
    {
      "cell_type": "code",
      "metadata": {
        "colab": {
          "base_uri": "https://localhost:8080/"
        },
        "id": "PNZbTCYaQlsE",
        "outputId": "61f94756-fdf8-454e-ce02-a3fa162ba224"
      },
      "source": [
        "B=np.array([[44],[128],[214]]) #matrix B\n",
        "print(B)"
      ],
      "execution_count": 7,
      "outputs": [
        {
          "output_type": "stream",
          "name": "stdout",
          "text": [
            "[[ 44]\n",
            " [128]\n",
            " [214]]\n"
          ]
        }
      ]
    },
    {
      "cell_type": "code",
      "metadata": {
        "colab": {
          "base_uri": "https://localhost:8080/"
        },
        "id": "B6tVyOxgQwMW",
        "outputId": "78d7bb8c-0e17-4246-ef87-21f40a8c8493"
      },
      "source": [
        "X=np.dot(inv_A,B) #dot product of inv_A and B\n",
        "print(X)"
      ],
      "execution_count": 6,
      "outputs": [
        {
          "output_type": "stream",
          "name": "stdout",
          "text": [
            "[[-8.]\n",
            " [ 6.]\n",
            " [ 2.]]\n"
          ]
        }
      ]
    },
    {
      "cell_type": "markdown",
      "metadata": {
        "id": "71sXIuPvQ2e9"
      },
      "source": [
        "##Checking"
      ]
    },
    {
      "cell_type": "code",
      "metadata": {
        "colab": {
          "base_uri": "https://localhost:8080/"
        },
        "id": "jywLkxeWQ1sb",
        "outputId": "f9d80b03-b7a6-4b69-8522-5070e8128c19"
      },
      "source": [
        "B=np.dot(A,X)\n",
        "print(B)"
      ],
      "execution_count": 5,
      "outputs": [
        {
          "output_type": "stream",
          "name": "stdout",
          "text": [
            "[[ 44.]\n",
            " [128.]\n",
            " [214.]]\n"
          ]
        }
      ]
    }
  ]
}
