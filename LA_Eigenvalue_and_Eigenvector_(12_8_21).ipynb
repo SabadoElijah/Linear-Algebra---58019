{
  "nbformat": 4,
  "nbformat_minor": 0,
  "metadata": {
    "colab": {
      "name": "LA Eigenvalue and Eigenvector (12/8/21).ipynb",
      "provenance": [],
      "authorship_tag": "ABX9TyNDWc8wrL4Rf/16b3vpldNi",
      "include_colab_link": true
    },
    "kernelspec": {
      "name": "python3",
      "display_name": "Python 3"
    },
    "language_info": {
      "name": "python"
    }
  },
  "cells": [
    {
      "cell_type": "markdown",
      "metadata": {
        "id": "view-in-github",
        "colab_type": "text"
      },
      "source": [
        "<a href=\"https://colab.research.google.com/github/jhiasab27/Linear-Algebra---58019/blob/main/LA_Eigenvalue_and_Eigenvector_(12_8_21).ipynb\" target=\"_parent\"><img src=\"https://colab.research.google.com/assets/colab-badge.svg\" alt=\"Open In Colab\"/></a>"
      ]
    },
    {
      "cell_type": "code",
      "execution_count": 10,
      "metadata": {
        "colab": {
          "base_uri": "https://localhost:8080/"
        },
        "id": "fhATaqGDl1XX",
        "outputId": "129c23bc-171b-4b03-8489-9f1384792f17"
      },
      "outputs": [
        {
          "output_type": "stream",
          "name": "stdout",
          "text": [
            "[[-12   3]\n",
            " [  4   1]]\n",
            "[[-0.04166667  0.125     ]\n",
            " [ 0.16666667  0.5       ]]\n",
            "[[0]\n",
            " [0]]\n",
            "[[0.]\n",
            " [0.]]\n"
          ]
        }
      ],
      "source": [
        "import numpy as np\n",
        "from numpy.linalg import eig\n",
        "A=np.array([[-12,3],[4,1]])\n",
        "print(A)\n",
        "\n",
        "inv_A=np.linalg.inv(A)\n",
        "print(inv_A)\n",
        "\n",
        "B=np.array([[0],[0]])\n",
        "print(B)\n",
        "\n",
        "X=np.dot(inv_A,B)\n",
        "print(X)\n",
        "#X=solve(A,B)\n",
        "#print(X)"
      ]
    },
    {
      "cell_type": "code",
      "source": [
        "#Example 1\n",
        "A=np.array([[-6,3],[4,5]])\n",
        "print(A,\"\\n\")\n",
        "\n",
        "w,v=np.linalg.eig(A)\n",
        "print(\"The eigenvalue/s is/are:\", w)\n",
        "print(\"The right eigenvectors are:\",v)\n",
        "#x=v.round()\n",
        "#print(x)"
      ],
      "metadata": {
        "colab": {
          "base_uri": "https://localhost:8080/"
        },
        "id": "RGzVTCByoaQd",
        "outputId": "0e664dc1-220b-4995-9e1d-eaf5a47912b8"
      },
      "execution_count": 16,
      "outputs": [
        {
          "output_type": "stream",
          "name": "stdout",
          "text": [
            "[[-6  3]\n",
            " [ 4  5]] \n",
            "\n",
            "The eigenvalue/s is/are: [-7.  6.]\n",
            "The right eigenvectors are: [[-0.9486833  -0.24253563]\n",
            " [ 0.31622777 -0.9701425 ]]\n"
          ]
        }
      ]
    },
    {
      "cell_type": "code",
      "source": [
        "#Example 2\n",
        "A=np.array([[2,2,4],[1,3,5],[2,3,4]])\n",
        "print(A,\"\\n\")\n",
        "\n",
        "s,t=np.linalg.eig(A)\n",
        "print(s.round())\n",
        "print(t.round(),\"\\n\")\n",
        "\n",
        "c=np.dot(A,t.round())\n",
        "print(c)"
      ],
      "metadata": {
        "colab": {
          "base_uri": "https://localhost:8080/"
        },
        "id": "hEtGrptnpVGB",
        "outputId": "ab4e59de-3d87-4b67-c6ce-a123b69ce758"
      },
      "execution_count": 20,
      "outputs": [
        {
          "output_type": "stream",
          "name": "stdout",
          "text": [
            "[[2 2 4]\n",
            " [1 3 5]\n",
            " [2 3 4]] \n",
            "\n",
            "[ 9.  1. -1.]\n",
            "[[-1. -1. -0.]\n",
            " [-1.  1. -1.]\n",
            " [-1. -0.  1.]] \n",
            "\n",
            "[[-8.  0.  2.]\n",
            " [-9.  2.  2.]\n",
            " [-9.  1.  1.]]\n"
          ]
        }
      ]
    },
    {
      "cell_type": "code",
      "source": [
        "f=np.array([[-1],[-1],[-1]])\n",
        "print(f)\n",
        "\n",
        "g=np.dot(A,f)\n",
        "print(g)"
      ],
      "metadata": {
        "colab": {
          "base_uri": "https://localhost:8080/"
        },
        "id": "N9GJocvWqB_T",
        "outputId": "8a60113d-8aab-4061-f2e6-9a9217b509ef"
      },
      "execution_count": 25,
      "outputs": [
        {
          "output_type": "stream",
          "name": "stdout",
          "text": [
            "[[-1]\n",
            " [-1]\n",
            " [-1]]\n",
            "[[-8]\n",
            " [-9]\n",
            " [-9]]\n"
          ]
        }
      ]
    }
  ]
}