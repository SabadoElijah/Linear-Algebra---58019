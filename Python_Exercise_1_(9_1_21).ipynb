{
  "nbformat": 4,
  "nbformat_minor": 0,
  "metadata": {
    "colab": {
      "name": "Python Exercise 1 (9/1/21)",
      "provenance": [],
      "authorship_tag": "ABX9TyOeihOgm4ueOtQHXvKE67W6",
      "include_colab_link": true
    },
    "kernelspec": {
      "name": "python3",
      "display_name": "Python 3"
    },
    "language_info": {
      "name": "python"
    }
  },
  "cells": [
    {
      "cell_type": "markdown",
      "metadata": {
        "id": "view-in-github",
        "colab_type": "text"
      },
      "source": [
        "<a href=\"https://colab.research.google.com/github/jhiasab27/Linear-Algebra---58019/blob/main/Python_Exercise_1_(9_1_21).ipynb\" target=\"_parent\"><img src=\"https://colab.research.google.com/assets/colab-badge.svg\" alt=\"Open In Colab\"/></a>"
      ]
    },
    {
      "cell_type": "markdown",
      "metadata": {
        "id": "8ROfD_cc70GB"
      },
      "source": [
        "# Matrix and Its Operations"
      ]
    },
    {
      "cell_type": "code",
      "metadata": {
        "id": "tksWhPu-7w2H",
        "colab": {
          "base_uri": "https://localhost:8080/"
        },
        "outputId": "169ce405-beab-4de2-c52e-9237d7ec6821"
      },
      "source": [
        "#numpy\n",
        "import numpy as np\n",
        "A = np.array([[-5,0],[4,1]])\n",
        "B = np.array([[6, -3],[2,3]])\n",
        "print(A+B) #sum = A +B"
      ],
      "execution_count": 3,
      "outputs": [
        {
          "output_type": "stream",
          "name": "stdout",
          "text": [
            "[[ 1 -3]\n",
            " [ 6  4]]\n"
          ]
        }
      ]
    },
    {
      "cell_type": "code",
      "metadata": {
        "colab": {
          "base_uri": "https://localhost:8080/"
        },
        "id": "yrhn8jpn9RFq",
        "outputId": "f274312a-2e1c-4b81-85d1-57030a9f9cf9"
      },
      "source": [
        "import numpy as np\n",
        "A = np.array([[-5,0],[4,1]])\n",
        "B = np.array([[6, -3],[2,3]])\n",
        "print(B-A) #difference1 = B - A"
      ],
      "execution_count": 4,
      "outputs": [
        {
          "output_type": "stream",
          "name": "stdout",
          "text": [
            "[[11 -3]\n",
            " [-2  2]]\n"
          ]
        }
      ]
    },
    {
      "cell_type": "code",
      "metadata": {
        "colab": {
          "base_uri": "https://localhost:8080/"
        },
        "id": "xm6q0N4t9al4",
        "outputId": "911ad109-56c7-4736-8ff6-80e4430ec2bb"
      },
      "source": [
        "import numpy as np\n",
        "A = np.array([[-5,0],[4,1]])\n",
        "B = np.array([[6, -3],[2,3]])\n",
        "print(A-B) #difference2 = A - B"
      ],
      "execution_count": 5,
      "outputs": [
        {
          "output_type": "stream",
          "name": "stdout",
          "text": [
            "[[-11   3]\n",
            " [  2  -2]]\n"
          ]
        }
      ]
    }
  ]
}