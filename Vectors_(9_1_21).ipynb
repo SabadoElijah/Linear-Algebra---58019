{
  "nbformat": 4,
  "nbformat_minor": 0,
  "metadata": {
    "colab": {
      "name": "LA Vectors (9/1/21).ipynb",
      "provenance": [],
      "authorship_tag": "ABX9TyPx3aRjQZpaMFIYu4D4R5Pf",
      "include_colab_link": true
    },
    "kernelspec": {
      "name": "python3",
      "display_name": "Python 3"
    },
    "language_info": {
      "name": "python"
    }
  },
  "cells": [
    {
      "cell_type": "markdown",
      "metadata": {
        "id": "view-in-github",
        "colab_type": "text"
      },
      "source": [
        "<a href=\"https://colab.research.google.com/github/jhiasab27/Linear-Algebra---58019/blob/main/Vectors_(9_1_21).ipynb\" target=\"_parent\"><img src=\"https://colab.research.google.com/assets/colab-badge.svg\" alt=\"Open In Colab\"/></a>"
      ]
    },
    {
      "cell_type": "markdown",
      "metadata": {
        "id": "1NceLte60pxE"
      },
      "source": [
        "# Matrix Algebra"
      ]
    },
    {
      "cell_type": "code",
      "metadata": {
        "colab": {
          "base_uri": "https://localhost:8080/"
        },
        "id": "ndVx_AjH0f9a",
        "outputId": "a5b79fc0-83d2-4991-b2ce-70292e14174d"
      },
      "source": [
        "#numpy\n",
        "import numpy as np\n",
        "a = np.array([1,2,3]) #example of a 1x3 matrix\n",
        "print(a)"
      ],
      "execution_count": 2,
      "outputs": [
        {
          "output_type": "stream",
          "name": "stdout",
          "text": [
            "[1 2 3]\n"
          ]
        }
      ]
    },
    {
      "cell_type": "code",
      "metadata": {
        "colab": {
          "base_uri": "https://localhost:8080/"
        },
        "id": "GG0ai09z1tAe",
        "outputId": "30467f0a-e0eb-4b45-cd56-1b7c00dcd2b5"
      },
      "source": [
        "import numpy as np\n",
        "b = np.array([[1,2,3],[4,5,6]]) #2x3 matrix\n",
        "print(b)"
      ],
      "execution_count": 4,
      "outputs": [
        {
          "output_type": "stream",
          "name": "stdout",
          "text": [
            "[[1 2 3]\n",
            " [4 5 6]]\n"
          ]
        }
      ]
    },
    {
      "cell_type": "code",
      "metadata": {
        "colab": {
          "base_uri": "https://localhost:8080/"
        },
        "id": "OpdlXvJ92Q5y",
        "outputId": "ce58a9b7-5bc9-45f3-ff68-d00022e9715c"
      },
      "source": [
        "import numpy as np\n",
        "c = np.array([[1,2,3], [4,5,6],[7,8,9]]) #3x3 matrix\n",
        "print(c)"
      ],
      "execution_count": 5,
      "outputs": [
        {
          "output_type": "stream",
          "name": "stdout",
          "text": [
            "[[1 2 3]\n",
            " [4 5 6]\n",
            " [7 8 9]]\n"
          ]
        }
      ]
    },
    {
      "cell_type": "code",
      "metadata": {
        "colab": {
          "base_uri": "https://localhost:8080/"
        },
        "id": "YnCqUcSQ2ulE",
        "outputId": "78fc7617-bbcf-4df8-bea5-957774c67be0"
      },
      "source": [
        "import numpy as np\n",
        "d = np.full ((3,3), 7)\n",
        "print(d-d)"
      ],
      "execution_count": 20,
      "outputs": [
        {
          "output_type": "stream",
          "name": "stdout",
          "text": [
            "[[0 0 0]\n",
            " [0 0 0]\n",
            " [0 0 0]]\n"
          ]
        }
      ]
    },
    {
      "cell_type": "code",
      "metadata": {
        "colab": {
          "base_uri": "https://localhost:8080/"
        },
        "id": "M7Ttx3K93C1W",
        "outputId": "2f81328a-0279-49b0-b5ca-6518ede217fa"
      },
      "source": [
        "import numpy as np\n",
        "e = np.array([[1,2,3], [4,5,6],[7,8,9]]) \n",
        "print(e)\n",
        "e = np.diagonal([[1,2,3], [4,5,6],[7,8,9]]) #diagonal numbers from diagonal matrix\n",
        "print(e)"
      ],
      "execution_count": 11,
      "outputs": [
        {
          "output_type": "stream",
          "name": "stdout",
          "text": [
            "[[1 2 3]\n",
            " [4 5 6]\n",
            " [7 8 9]]\n",
            "[1 5 9]\n"
          ]
        }
      ]
    },
    {
      "cell_type": "code",
      "metadata": {
        "colab": {
          "base_uri": "https://localhost:8080/"
        },
        "id": "P0DsOGOM3sNq",
        "outputId": "d19ff4c7-162d-4eea-9bdf-dd1e83ef8cbe"
      },
      "source": [
        "import numpy as np\n",
        "f = np.eye(3) #number stands for dimension\n",
        "print(f)"
      ],
      "execution_count": 12,
      "outputs": [
        {
          "output_type": "stream",
          "name": "stdout",
          "text": [
            "[[1. 0. 0.]\n",
            " [0. 1. 0.]\n",
            " [0. 0. 1.]]\n"
          ]
        }
      ]
    },
    {
      "cell_type": "code",
      "metadata": {
        "colab": {
          "base_uri": "https://localhost:8080/"
        },
        "id": "jtnz5icS3-iu",
        "outputId": "a97a203c-2c2e-409f-8539-295c87b0a13e"
      },
      "source": [
        "import numpy as np\n",
        "g = np.zeros((3,3))\n",
        "print(g)"
      ],
      "execution_count": 14,
      "outputs": [
        {
          "output_type": "stream",
          "name": "stdout",
          "text": [
            "[[0. 0. 0.]\n",
            " [0. 0. 0.]\n",
            " [0. 0. 0.]]\n"
          ]
        }
      ]
    },
    {
      "cell_type": "code",
      "metadata": {
        "colab": {
          "base_uri": "https://localhost:8080/"
        },
        "id": "ZrLeMR2x4Ppn",
        "outputId": "19f6ac1c-eef0-4f0b-bbb1-f615b586582b"
      },
      "source": [
        "import numpy as np\n",
        "h = np.empty((0,12))\n",
        "print(h)"
      ],
      "execution_count": 18,
      "outputs": [
        {
          "output_type": "stream",
          "name": "stdout",
          "text": [
            "[]\n"
          ]
        }
      ]
    }
  ]
}