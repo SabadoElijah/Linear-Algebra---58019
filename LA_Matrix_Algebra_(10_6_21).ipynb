{
  "nbformat": 4,
  "nbformat_minor": 0,
  "metadata": {
    "colab": {
      "name": "LA Matrix Algebra (10/6/21)",
      "provenance": [],
      "authorship_tag": "ABX9TyNzBD0CrDFmXr37hEI6JuCw",
      "include_colab_link": true
    },
    "kernelspec": {
      "name": "python3",
      "display_name": "Python 3"
    },
    "language_info": {
      "name": "python"
    }
  },
  "cells": [
    {
      "cell_type": "markdown",
      "metadata": {
        "id": "view-in-github",
        "colab_type": "text"
      },
      "source": [
        "<a href=\"https://colab.research.google.com/github/jhiasab27/Linear-Algebra---58019/blob/main/LA_Matrix_Algebra_(10_6_21).ipynb\" target=\"_parent\"><img src=\"https://colab.research.google.com/assets/colab-badge.svg\" alt=\"Open In Colab\"/></a>"
      ]
    },
    {
      "cell_type": "markdown",
      "metadata": {
        "id": "fC_UDcq0zdSm"
      },
      "source": [
        "##Python program to inverse"
      ]
    },
    {
      "cell_type": "code",
      "metadata": {
        "colab": {
          "base_uri": "https://localhost:8080/"
        },
        "id": "GLQ7c1c0zciM",
        "outputId": "6dbcfe71-bfd7-4681-d5b9-7507674c2a24"
      },
      "source": [
        "import numpy as np\n",
        "A=np.array([[1,2],[4,7]])\n",
        "#print(A)\n",
        "\n",
        "invA=np.linalg.inv(A)\n",
        "print(invA)"
      ],
      "execution_count": 12,
      "outputs": [
        {
          "output_type": "stream",
          "name": "stdout",
          "text": [
            "[[-7.  2.]\n",
            " [ 4. -1.]]\n"
          ]
        }
      ]
    },
    {
      "cell_type": "code",
      "metadata": {
        "colab": {
          "base_uri": "https://localhost:8080/"
        },
        "id": "BCVAyC7633F0",
        "outputId": "ecd6c518-198f-4bba-922c-50972185698f"
      },
      "source": [
        "C=np.dot(A,invA)\n",
        "print(C)"
      ],
      "execution_count": 13,
      "outputs": [
        {
          "output_type": "stream",
          "name": "stdout",
          "text": [
            "[[1. 0.]\n",
            " [0. 1.]]\n"
          ]
        }
      ]
    },
    {
      "cell_type": "code",
      "metadata": {
        "colab": {
          "base_uri": "https://localhost:8080/"
        },
        "id": "pOpoKc8V4gS-",
        "outputId": "8c2b0d3a-1093-46bd-d9c1-fc182e12f759"
      },
      "source": [
        "#Python Program to Transpose a 3x3 Matrix A=[6,1,1],[4,-2,5],[2,8,7]\n",
        "A=np.array([[6,1,1],[4,-2,5],[2,8,7]])\n",
        "print(A,\"\\n\")\n",
        "\n",
        "B=np.transpose(A)\n",
        "print(B)"
      ],
      "execution_count": 27,
      "outputs": [
        {
          "output_type": "stream",
          "name": "stdout",
          "text": [
            "[[ 6  1  1]\n",
            " [ 4 -2  5]\n",
            " [ 2  8  7]] \n",
            "\n",
            "[[ 6  4  2]\n",
            " [ 1 -2  8]\n",
            " [ 1  5  7]]\n"
          ]
        }
      ]
    },
    {
      "cell_type": "code",
      "metadata": {
        "colab": {
          "base_uri": "https://localhost:8080/"
        },
        "id": "CG-hyWro6hD0",
        "outputId": "07d3e8fe-f4a0-4bed-8c9f-0adaa7ea45df"
      },
      "source": [
        "#Python program to inverse a 3x3 matrix A=[6,1,1],[4,-2,5],[2,8,7]\n",
        "A=np.array([[6,1,1],[4,-2,5],[2,8,7]])\n",
        "print(A,\"\\n\")\n",
        "\n",
        "B=np.linalg.inv(A)\n",
        "print(B,\"\\n\")"
      ],
      "execution_count": 32,
      "outputs": [
        {
          "output_type": "stream",
          "name": "stdout",
          "text": [
            "[[ 6  1  1]\n",
            " [ 4 -2  5]\n",
            " [ 2  8  7]] \n",
            "\n",
            "[[ 0.17647059 -0.00326797 -0.02287582]\n",
            " [ 0.05882353 -0.13071895  0.08496732]\n",
            " [-0.11764706  0.1503268   0.05228758]] \n",
            "\n"
          ]
        }
      ]
    },
    {
      "cell_type": "markdown",
      "metadata": {
        "id": "PvmA1Vms7qAg"
      },
      "source": [
        "##Program to get the dot product of matrix A & its inverse"
      ]
    },
    {
      "cell_type": "code",
      "metadata": {
        "colab": {
          "base_uri": "https://localhost:8080/"
        },
        "id": "_2tksEWp7oiv",
        "outputId": "2ac54bb8-c844-4e30-aef4-7d554e986a36"
      },
      "source": [
        "AB=np.dot(A,B)\n",
        "print(AB)"
      ],
      "execution_count": 34,
      "outputs": [
        {
          "output_type": "stream",
          "name": "stdout",
          "text": [
            "[[ 1.00000000e+00  0.00000000e+00  2.77555756e-17]\n",
            " [-1.38777878e-17  1.00000000e+00  1.38777878e-17]\n",
            " [-4.16333634e-17  1.38777878e-16  1.00000000e+00]]\n"
          ]
        }
      ]
    },
    {
      "cell_type": "markdown",
      "metadata": {
        "id": "YA4i6ClB_vjV"
      },
      "source": [
        "###Python Program to inverse and transpose a 4x4 matrix A = ([6,1,1,3],[4,-2,5,1],[2,8,7,6],[3,1,9,7])"
      ]
    },
    {
      "cell_type": "code",
      "metadata": {
        "colab": {
          "base_uri": "https://localhost:8080/"
        },
        "id": "sikpw8Ko-M03",
        "outputId": "d289788e-d026-4212-ff15-bb29b2d15f6a"
      },
      "source": [
        "A=np.array([[6,1,1,3],[4,-2,5,1],[2,8,7,6],[3,1,9,7]])\n",
        "\n",
        "B=np.linalg.inv(A) #used to inverse a matrix\n",
        "print(\"Inverse of Matrix A:\\n\",B,\"\\n\")\n",
        "\n",
        "AB=np.dot(A,B) #output should be an identity matrix\n",
        "print(\"For checking:\\n\",AB,\"\\n\")\n",
        "\n",
        "C=np.transpose(B) #for transposing the values of the matrix\n",
        "print(\"Transposed Matrix A:\\n\",C)"
      ],
      "execution_count": 41,
      "outputs": [
        {
          "output_type": "stream",
          "name": "stdout",
          "text": [
            "Inverse of Matrix A:\n",
            " [[ 0.13368984  0.10695187  0.02139037 -0.09090909]\n",
            " [-0.00229183  0.02673797  0.14820474 -0.12987013]\n",
            " [-0.12987013  0.18181818  0.06493506 -0.02597403]\n",
            " [ 0.11000764 -0.28342246 -0.11382735  0.23376623]] \n",
            "\n",
            "For checking:\n",
            " [[ 1.00000000e+00  0.00000000e+00  2.77555756e-17  5.55111512e-17]\n",
            " [-1.24900090e-16  1.00000000e+00 -5.55111512e-17 -2.77555756e-17]\n",
            " [ 2.77555756e-17  0.00000000e+00  1.00000000e+00  1.11022302e-16]\n",
            " [-1.52655666e-16 -2.22044605e-16 -8.32667268e-17  1.00000000e+00]] \n",
            "\n",
            "Transposed Matrix A:\n",
            " [[ 0.13368984 -0.00229183 -0.12987013  0.11000764]\n",
            " [ 0.10695187  0.02673797  0.18181818 -0.28342246]\n",
            " [ 0.02139037  0.14820474  0.06493506 -0.11382735]\n",
            " [-0.09090909 -0.12987013 -0.02597403  0.23376623]]\n"
          ]
        }
      ]
    }
  ]
}