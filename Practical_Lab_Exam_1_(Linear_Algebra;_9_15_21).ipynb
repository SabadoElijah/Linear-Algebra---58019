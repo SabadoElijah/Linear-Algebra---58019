{
  "nbformat": 4,
  "nbformat_minor": 0,
  "metadata": {
    "colab": {
      "name": "Practical Lab Exam 1 (Linear Algebra; 9/15/21).ipynb",
      "provenance": [],
      "authorship_tag": "ABX9TyPkfgtqmd8pvHLx3lgf/7+B",
      "include_colab_link": true
    },
    "kernelspec": {
      "name": "python3",
      "display_name": "Python 3"
    },
    "language_info": {
      "name": "python"
    }
  },
  "cells": [
    {
      "cell_type": "markdown",
      "metadata": {
        "id": "view-in-github",
        "colab_type": "text"
      },
      "source": [
        "<a href=\"https://colab.research.google.com/github/jhiasab27/Linear-Algebra---58019/blob/main/Practical_Lab_Exam_1_(Linear_Algebra%3B_9_15_21).ipynb\" target=\"_parent\"><img src=\"https://colab.research.google.com/assets/colab-badge.svg\" alt=\"Open In Colab\"/></a>"
      ]
    },
    {
      "cell_type": "markdown",
      "metadata": {
        "id": "ilznkGG_w2EB"
      },
      "source": [
        "###Problem 1"
      ]
    },
    {
      "cell_type": "code",
      "metadata": {
        "colab": {
          "base_uri": "https://localhost:8080/"
        },
        "id": "zvzqZgvslzSU",
        "outputId": "14b589ba-7fe8-44ab-a910-a4f8c558467c"
      },
      "source": [
        "import numpy as np\n",
        "A = np.array([[1,2,3], [4,5,6]]) \n",
        "B = np.array([[1,2], [3,4], [5,6]])\n",
        "C = np.array([[1,2,3], [4,5,6], [7,8,9]]) \n",
        "D = np.array([[1,2], [3,4]])\n",
        "\n",
        "a1=np.dot(A,B)\n",
        "\n",
        "print(\"a.\\n\",a1,\"\\n\")\n",
        "\n",
        "print(\"b.\\n\",D+D, \"\\n\")\n",
        "\n",
        "print(\"c.\\n\",2*C, \"\\n\")"
      ],
      "execution_count": 48,
      "outputs": [
        {
          "output_type": "stream",
          "name": "stdout",
          "text": [
            "a.\n",
            " [[22 28]\n",
            " [49 64]] \n",
            "\n",
            "b.\n",
            " [[2 4]\n",
            " [6 8]] \n",
            "\n",
            "c.\n",
            " [[ 2  4  6]\n",
            " [ 8 10 12]\n",
            " [14 16 18]] \n",
            "\n"
          ]
        }
      ]
    },
    {
      "cell_type": "markdown",
      "metadata": {
        "id": "kVEYury5w2AI"
      },
      "source": [
        "###Problem 2"
      ]
    },
    {
      "cell_type": "code",
      "metadata": {
        "colab": {
          "base_uri": "https://localhost:8080/"
        },
        "id": "qqaB9skmrJJy",
        "outputId": "57d271d7-fdca-4aba-a056-a686e8955729"
      },
      "source": [
        "c = np.array([[5, 3, -1]])\n",
        "\n",
        "print(c,\"\\n\")\n",
        "print(\"Type: \", type(c))\n",
        "print(\"Shape: \", c.shape)\n",
        "print(\"Dimension:\", c.ndim)"
      ],
      "execution_count": 50,
      "outputs": [
        {
          "output_type": "stream",
          "name": "stdout",
          "text": [
            "[[ 5  3 -1]] \n",
            "\n",
            "Type:  <class 'numpy.ndarray'>\n",
            "Shape:  (1, 3)\n",
            "Dimension: 2\n"
          ]
        }
      ]
    }
  ]
}