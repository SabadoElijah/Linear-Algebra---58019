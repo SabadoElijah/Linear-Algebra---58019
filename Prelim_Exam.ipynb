{
  "nbformat": 4,
  "nbformat_minor": 0,
  "metadata": {
    "colab": {
      "name": "Prelim Exam.ipynb",
      "provenance": [],
      "authorship_tag": "ABX9TyNgQCxzHo5tdOd5byCB2ltW",
      "include_colab_link": true
    },
    "kernelspec": {
      "name": "python3",
      "display_name": "Python 3"
    },
    "language_info": {
      "name": "python"
    }
  },
  "cells": [
    {
      "cell_type": "markdown",
      "metadata": {
        "id": "view-in-github",
        "colab_type": "text"
      },
      "source": [
        "<a href=\"https://colab.research.google.com/github/jhiasab27/Linear-Algebra---58019/blob/main/Prelim_Exam.ipynb\" target=\"_parent\"><img src=\"https://colab.research.google.com/assets/colab-badge.svg\" alt=\"Open In Colab\"/></a>"
      ]
    },
    {
      "cell_type": "markdown",
      "metadata": {
        "id": "zt3yzoHhoMMQ"
      },
      "source": [
        "#Prelim Exam"
      ]
    },
    {
      "cell_type": "markdown",
      "metadata": {
        "id": "PWh5sx0DiXEa"
      },
      "source": [
        "###Question 1"
      ]
    },
    {
      "cell_type": "code",
      "metadata": {
        "colab": {
          "base_uri": "https://localhost:8080/"
        },
        "id": "MIZe_B5rkonc",
        "outputId": "50fdea68-9210-49de-adb9-82f757b3d9f9"
      },
      "source": [
        "import numpy as np\n",
        "C = np.eye(4) #creates a matrix with a diagonal 1 and fills the rest with zeros\n",
        "\n",
        "print(C)"
      ],
      "execution_count": 14,
      "outputs": [
        {
          "output_type": "stream",
          "name": "stdout",
          "text": [
            "[[1. 0. 0. 0.]\n",
            " [0. 1. 0. 0.]\n",
            " [0. 0. 1. 0.]\n",
            " [0. 0. 0. 1.]]\n"
          ]
        }
      ]
    },
    {
      "cell_type": "markdown",
      "metadata": {
        "id": "elyXgWDilGb_"
      },
      "source": [
        "###Question 2"
      ]
    },
    {
      "cell_type": "code",
      "metadata": {
        "colab": {
          "base_uri": "https://localhost:8080/"
        },
        "id": "iSBGJNu4lIjX",
        "outputId": "5a310a29-ea20-4dce-ac92-40b36b532c85"
      },
      "source": [
        "import numpy as np\n",
        "C = np.eye(4) #from Q1\n",
        "c=2*C #for doubling the values\n",
        "\n",
        "print(c)"
      ],
      "execution_count": 16,
      "outputs": [
        {
          "output_type": "stream",
          "name": "stdout",
          "text": [
            "[[2. 0. 0. 0.]\n",
            " [0. 2. 0. 0.]\n",
            " [0. 0. 2. 0.]\n",
            " [0. 0. 0. 2.]]\n"
          ]
        }
      ]
    },
    {
      "cell_type": "markdown",
      "metadata": {
        "id": "rk6AVDGFlpUd"
      },
      "source": [
        "###Question 3"
      ]
    },
    {
      "cell_type": "code",
      "metadata": {
        "colab": {
          "base_uri": "https://localhost:8080/"
        },
        "id": "74TIor1vlrSb",
        "outputId": "e6e6b23f-af0c-4559-cd6c-ff34c2ddd8b6"
      },
      "source": [
        "A = ([2,7,4])\n",
        "B = ([3,9,8])\n",
        "cross = np.cross(A,B) #cross multiplies vector A and B\n",
        "\n",
        "print(\"Matrix A: \",A)\n",
        "print(\"Matrix B: \",B)\n",
        "print(\"Cross-product: \",cross)"
      ],
      "execution_count": 19,
      "outputs": [
        {
          "output_type": "stream",
          "name": "stdout",
          "text": [
            "Matrix A:  [2, 7, 4]\n",
            "Matrix B:  [3, 9, 8]\n",
            "Cross-product:  [20 -4 -3]\n"
          ]
        }
      ]
    }
  ]
}